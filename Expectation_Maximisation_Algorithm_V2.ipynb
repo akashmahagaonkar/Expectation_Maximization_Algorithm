{
 "cells": [
  {
   "cell_type": "code",
   "execution_count": 86,
   "metadata": {},
   "outputs": [],
   "source": [
    "import numpy as np\n",
    "from scipy.stats import binom\n",
    "import pandas as pd\n",
    "from random import uniform\n",
    "import matplotlib.pyplot as plt"
   ]
  },
  {
   "cell_type": "code",
   "execution_count": 87,
   "metadata": {},
   "outputs": [],
   "source": [
    "df = pd.read_csv(\"coin_toss.csv\", sep=\"\\t\")"
   ]
  },
  {
   "cell_type": "code",
   "execution_count": 88,
   "metadata": {},
   "outputs": [],
   "source": [
    "theta_a = 0.6 # Initial probability is a guess work as estimates for theta are unknown.\n",
    "theta_b = 0.5 # Initial probability is a guess work as estimates for theta are unknown."
   ]
  },
  {
   "cell_type": "code",
   "execution_count": 89,
   "metadata": {},
   "outputs": [],
   "source": [
    "ar = df.values"
   ]
  },
  {
   "cell_type": "code",
   "execution_count": 90,
   "metadata": {
    "scrolled": true
   },
   "outputs": [
    {
     "name": "stdout",
     "output_type": "stream",
     "text": [
      "0.71 0.58\n",
      "0.73 0.58\n",
      "0.74 0.57\n",
      "0.74 0.57\n",
      "0.75 0.56\n",
      "0.75 0.56\n",
      "0.75 0.56\n",
      "0.76 0.55\n",
      "0.76 0.55\n",
      "0.76 0.55\n",
      "0.76 0.55\n",
      "0.76 0.55\n",
      "0.77 0.55\n",
      "0.77 0.55\n",
      "0.77 0.55\n",
      "0.77 0.54\n",
      "0.77 0.54\n",
      "0.77 0.54\n",
      "0.77 0.54\n",
      "0.77 0.54\n",
      "0.77 0.54\n",
      "0.77 0.54\n",
      "0.77 0.54\n",
      "0.77 0.54\n",
      "0.77 0.54\n",
      "0.78 0.54\n",
      "0.78 0.54\n",
      "0.78 0.54\n",
      "0.78 0.54\n",
      "0.78 0.54\n",
      "0.78 0.54\n",
      "0.78 0.54\n",
      "0.78 0.54\n",
      "0.78 0.54\n",
      "0.78 0.54\n",
      "0.78 0.54\n",
      "0.78 0.54\n",
      "0.78 0.54\n",
      "0.78 0.54\n",
      "0.78 0.54\n",
      "0.78 0.54\n",
      "0.78 0.53\n",
      "0.78 0.53\n",
      "0.78 0.53\n",
      "0.78 0.53\n",
      "0.78 0.53\n",
      "0.78 0.53\n",
      "0.78 0.53\n",
      "0.78 0.53\n",
      "0.78 0.53\n",
      "0.78 0.53\n",
      "0.78 0.53\n",
      "0.78 0.53\n",
      "0.78 0.53\n",
      "0.78 0.53\n",
      "0.78 0.53\n",
      "0.78 0.53\n",
      "0.78 0.53\n",
      "0.78 0.53\n",
      "0.78 0.53\n",
      "0.78 0.53\n",
      "0.78 0.53\n",
      "0.78 0.53\n",
      "0.78 0.53\n",
      "0.78 0.53\n",
      "0.78 0.53\n",
      "0.78 0.53\n",
      "0.78 0.53\n",
      "0.78 0.53\n",
      "0.78 0.53\n",
      "0.78 0.53\n",
      "0.78 0.53\n",
      "0.78 0.53\n",
      "0.78463\n",
      "0.53077\n",
      "73\n"
     ]
    }
   ],
   "source": [
    "n = 10 #To generate each record coin was tossed 10 times.\n",
    "p_distribution_df = pd.DataFrame(columns = ['coin_a','coin_b'])\n",
    "expected_heads_tails_based_on_distribution_df = pd.DataFrame(columns = ['coin_a_heads','coin_a_tails','coin_b_heads','coin_b_tails'])\n",
    "not_convergence = True\n",
    "probability_a = []\n",
    "probability_b = []\n",
    "iterations = 0\n",
    "while not_convergence:\n",
    "    iterations = iterations + 1\n",
    "\n",
    "    \n",
    "    #********** Expectation Step **********#\n",
    "    for x in range (5): \n",
    "        k = ar[x,0] #head count in each record.\n",
    "        binomial_distribution_coin_a = binom.pmf(k,n,theta_a)\n",
    "        binomial_distribution_coin_b = binom.pmf(k,n,theta_b)\n",
    "        probability_distribution_of_coin_a = binomial_distribution_coin_a / (binomial_distribution_coin_a + binomial_distribution_coin_b)\n",
    "        probability_distribution_of_coin_a = round(probability_distribution_of_coin_a,2)\n",
    "        probability_distribution_of_coin_b = binomial_distribution_coin_b / (binomial_distribution_coin_a + binomial_distribution_coin_b)\n",
    "        probability_distribution_of_coin_b = round(probability_distribution_of_coin_b,2)\n",
    "        p_distribution_df = p_distribution_df.append({'coin_a' : probability_distribution_of_coin_a, 'coin_b' : probability_distribution_of_coin_b},ignore_index=True) \n",
    "        expected_heads_a = probability_distribution_of_coin_a * ar[x,0]\n",
    "        expected_tails_a = probability_distribution_of_coin_a * ar[x,1]\n",
    "        expected_heads_b = probability_distribution_of_coin_b * ar[x,0]\n",
    "        expected_tails_b = probability_distribution_of_coin_b * ar[x,1]\n",
    "        expected_heads_tails_based_on_distribution_df = expected_heads_tails_based_on_distribution_df.append({'coin_a_heads' : expected_heads_a,'coin_a_tails' : expected_tails_a,'coin_b_heads' : expected_heads_b,'coin_b_tails' : expected_tails_b}, ignore_index=True)\n",
    "\n",
    "        \n",
    "    #********** Maximization Step ***********#\n",
    "    updated_theta_a = expected_heads_tails_based_on_distribution_df['coin_a_heads'].sum() / (expected_heads_tails_based_on_distribution_df['coin_a_heads'].sum()+ expected_heads_tails_based_on_distribution_df['coin_a_tails'].sum())\n",
    "    updated_theta_a = float(\"{0:.5f}\".format(updated_theta_a))\n",
    "    updated_theta_b = expected_heads_tails_based_on_distribution_df['coin_b_heads'].sum() / (expected_heads_tails_based_on_distribution_df['coin_b_heads'].sum()+ expected_heads_tails_based_on_distribution_df['coin_b_tails'].sum())\n",
    "    updated_theta_b = float(\"{0:.5f}\".format(updated_theta_b))\n",
    "    absolute_difference_a = abs(updated_theta_a - theta_a)\n",
    "    absolute_difference_b = abs(updated_theta_b - theta_b)\n",
    "    if absolute_difference_a < 0.0001 and absolute_difference_b < 0.0001:\n",
    "        not_convergence = False\n",
    "    else:\n",
    "        theta_a = updated_theta_a # Maximization Step.\n",
    "\n",
    "        theta_b = updated_theta_b # Maximization Step.\n",
    "#    print(round(theta_a, 2), round(theta_b, 2))\n",
    "    probability_a.append(theta_a)\n",
    "    probability_b.append(theta_b)\n",
    "\n",
    "\n",
    "#********** EM Output **********#\n",
    "print(theta_a)\n",
    "print(theta_b)\n",
    "print(iterations)\n",
    "        \n"
   ]
  },
  {
   "cell_type": "code",
   "execution_count": 91,
   "metadata": {},
   "outputs": [
    {
     "data": {
      "image/png": "[encoded data removed]",
      "text/plain": [
       "<Figure size 432x288 with 1 Axes>"
      ]
     },
     "metadata": {},
     "output_type": "display_data"
    }
   ],
   "source": [
    "plt.plot(probability_a, 'r')\n",
    "plt.title('Probability of coin 1 over iterations.')\n",
    "plt.ylabel('MLE')\n",
    "plt.xlabel('Iterations')\n",
    "plt.show()"
   ]
  },
  {
   "cell_type": "code",
   "execution_count": 92,
   "metadata": {},
   "outputs": [
    {
     "data": {
      "image/png": "[encoded data removed]",
      "text/plain": [
       "<Figure size 432x288 with 1 Axes>"
      ]
     },
     "metadata": {},
     "output_type": "display_data"
    }
   ],
   "source": [
    "plt.plot(probability_b, 'r')\n",
    "plt.title('Probability of coin 2 over iterations.')\n",
    "plt.ylabel('MLE')\n",
    "plt.xlabel('Iterations')\n",
    "plt.show()"
   ]
  }
 ],
 "metadata": {
  "kernelspec": {
   "display_name": "Python 3",
   "language": "python",
   "name": "python3"
  },
  "language_info": {
   "codemirror_mode": {
    "name": "ipython",
    "version": 3
   },
   "file_extension": ".py",
   "mimetype": "text/x-python",
   "name": "python",
   "nbconvert_exporter": "python",
   "pygments_lexer": "ipython3",
   "version": "3.4.5"
  }
 },
 "nbformat": 4,
 "nbformat_minor": 2
}
